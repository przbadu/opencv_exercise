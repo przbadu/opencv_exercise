{
 "cells": [
  {
   "metadata": {},
   "cell_type": "markdown",
   "source": [
    "# Basic Image Manipulations\n",
    "\n",
    "In this notebook we will cover how to perform image transformations including:\n",
    "\n",
    "* Accessing and manipulating images pixels\n",
    "* Image resizing\n",
    "* Cropping\n",
    "* Flipping"
   ],
   "id": "8a77807f92f26ee"
  },
  {
   "metadata": {
    "ExecuteTime": {
     "end_time": "2024-05-22T02:16:51.955105Z",
     "start_time": "2024-05-22T02:16:51.509460Z"
    }
   },
   "cell_type": "code",
   "source": [
    "import os\n",
    "import cv2\n",
    "import numpy as np\n",
    "import matplotlib.pyplot as plt\n",
    "\n",
    "from zipfile import ZipFile\n",
    "from urllib.request import urlretrieve\n",
    "\n",
    "from IPython.display import Image\n",
    "\n",
    "%matplotlib inline"
   ],
   "id": "fbc121e30a2defb3",
   "outputs": [],
   "execution_count": 1
  },
  {
   "metadata": {},
   "cell_type": "markdown",
   "source": [
    "## Download Assets\n",
    "\n",
    "The `download_and_unzip()` is used to download and extract the notebook assets."
   ],
   "id": "8b24827212d52a06"
  },
  {
   "metadata": {
    "ExecuteTime": {
     "end_time": "2024-05-22T02:21:51.644086Z",
     "start_time": "2024-05-22T02:21:51.641511Z"
    }
   },
   "cell_type": "code",
   "source": [
    "def download_and_unzip(url, save_path):\n",
    "    print(f\"Downloading and extracting assets...\", end=\"\")\n",
    "    \n",
    "    # Downloading zip file using urllib package.\n",
    "    urlretrieve(url, save_path)\n",
    "    \n",
    "    try:\n",
    "        # Extracting zip file using the zipfile package.\n",
    "        with ZipFile(save_path) as z:\n",
    "            # Extract ZIP file contents in the same directory.\n",
    "            z.extractall(os.path.split(save_path)[0])\n",
    "            \n",
    "        print(\"\\n Done!!\")\n",
    "    except Exception as e:\n",
    "        print(f\"Invalid file: {e}\")"
   ],
   "id": "487c11d803348f8e",
   "outputs": [],
   "execution_count": 4
  },
  {
   "metadata": {
    "ExecuteTime": {
     "end_time": "2024-05-22T02:21:52.243638Z",
     "start_time": "2024-05-22T02:21:52.241284Z"
    }
   },
   "cell_type": "code",
   "source": [
    "URL = r\"https://www.dropbox.com/s/rys6f1vprily2bg/opencv_bootcamp_assets_NB2.zip?dl=1\"\n",
    "\n",
    "asset_zip_path = os.path.join(os.getcwd(), f\"opencv_bootcamp_assets_NB2.zip\")\n",
    "\n",
    "# Download if asset ZIP does not exists.\n",
    "if not os.path.exists(asset_zip_path):\n",
    "    download_and_unzip(URL, asset_zip_path)"
   ],
   "id": "a3474b22f508d5d4",
   "outputs": [],
   "execution_count": 5
  },
  {
   "metadata": {},
   "cell_type": "markdown",
   "source": "## Original checkerboard image",
   "id": "7a5a9e7340ef857"
  },
  {
   "metadata": {
    "ExecuteTime": {
     "end_time": "2024-05-22T02:25:09.096326Z",
     "start_time": "2024-05-22T02:25:09.036452Z"
    }
   },
   "cell_type": "code",
   "source": [
    "# Read image as gray scale.\n",
    "cb_img = cv2.imread(\"checkerboard_18x18.png\", cv2.IMREAD_GRAYSCALE)\n",
    "\n",
    "# Set color map to gray scale for proper rendering.\n",
    "plt.imshow(cb_img, cmap=\"gray\")\n",
    "print(cb_img)"
   ],
   "id": "6f27e3906d06ea85",
   "outputs": [
    {
     "name": "stdout",
     "output_type": "stream",
     "text": [
      "[[  0   0   0   0   0   0 255 255 255 255 255 255   0   0   0   0   0   0]\n",
      " [  0   0   0   0   0   0 255 255 255 255 255 255   0   0   0   0   0   0]\n",
      " [  0   0   0   0   0   0 255 255 255 255 255 255   0   0   0   0   0   0]\n",
      " [  0   0   0   0   0   0 255 255 255 255 255 255   0   0   0   0   0   0]\n",
      " [  0   0   0   0   0   0 255 255 255 255 255 255   0   0   0   0   0   0]\n",
      " [  0   0   0   0   0   0 255 255 255 255 255 255   0   0   0   0   0   0]\n",
      " [255 255 255 255 255 255   0   0   0   0   0   0 255 255 255 255 255 255]\n",
      " [255 255 255 255 255 255   0   0   0   0   0   0 255 255 255 255 255 255]\n",
      " [255 255 255 255 255 255   0   0   0   0   0   0 255 255 255 255 255 255]\n",
      " [255 255 255 255 255 255   0   0   0   0   0   0 255 255 255 255 255 255]\n",
      " [255 255 255 255 255 255   0   0   0   0   0   0 255 255 255 255 255 255]\n",
      " [255 255 255 255 255 255   0   0   0   0   0   0 255 255 255 255 255 255]\n",
      " [  0   0   0   0   0   0 255 255 255 255 255 255   0   0   0   0   0   0]\n",
      " [  0   0   0   0   0   0 255 255 255 255 255 255   0   0   0   0   0   0]\n",
      " [  0   0   0   0   0   0 255 255 255 255 255 255   0   0   0   0   0   0]\n",
      " [  0   0   0   0   0   0 255 255 255 255 255 255   0   0   0   0   0   0]\n",
      " [  0   0   0   0   0   0 255 255 255 255 255 255   0   0   0   0   0   0]\n",
      " [  0   0   0   0   0   0 255 255 255 255 255 255   0   0   0   0   0   0]]\n"
     ]
    },
    {
     "data": {
      "text/plain": [
       "<Figure size 640x480 with 1 Axes>"
      ],
      "image/png": "[encoded data removed]"
     },
     "metadata": {},
     "output_type": "display_data"
    }
   ],
   "execution_count": 9
  },
  {
   "metadata": {},
   "cell_type": "markdown",
   "source": [
    "## Accessing Individual Pixels\n",
    "\n",
    "Let us see how to access a pixel in the image.\n",
    "\n",
    "For accessing any pixel in a numpy matrix, you have to use matrix notation such as matrix[r,c], where the r is the row number and c is the column number. Also note that the matrix is 0-indexed.\n",
    "\n",
    "For example, if you want to access the first pixel, you need to specify matrix[0,0]. Let us see with some examples. We will print one black pixel from top-left and one white pixel from top-center."
   ],
   "id": "1ad0c46c93d5137c"
  },
  {
   "metadata": {
    "ExecuteTime": {
     "end_time": "2024-05-22T02:36:30.878351Z",
     "start_time": "2024-05-22T02:36:30.873801Z"
    }
   },
   "cell_type": "code",
   "source": [
    "# print the first pixel of the first black box\n",
    "print(cb_img[0,0])\n",
    "\n",
    "# Print the first white pixel of the right of the first black box\n",
    "print(cb_img[0,6])"
   ],
   "id": "e46f5154385fa1d0",
   "outputs": [
    {
     "name": "stdout",
     "output_type": "stream",
     "text": [
      "0\n",
      "255\n"
     ]
    }
   ],
   "execution_count": 10
  },
  {
   "metadata": {},
   "cell_type": "markdown",
   "source": [
    "## Modifying Image Pixels\n",
    "\n",
    "We can modify the intensity values of pixels in the same manner as described above."
   ],
   "id": "c022b79b6b45b150"
  },
  {
   "metadata": {},
   "cell_type": "code",
   "outputs": [],
   "execution_count": null,
   "source": "",
   "id": "f32f3cf8e7951a60"
  }
 ],
 "metadata": {
  "kernelspec": {
   "display_name": "Python 3",
   "language": "python",
   "name": "python3"
  },
  "language_info": {
   "codemirror_mode": {
    "name": "ipython",
    "version": 2
   },
   "file_extension": ".py",
   "mimetype": "text/x-python",
   "name": "python",
   "nbconvert_exporter": "python",
   "pygments_lexer": "ipython2",
   "version": "2.7.6"
  }
 },
 "nbformat": 4,
 "nbformat_minor": 5
}
